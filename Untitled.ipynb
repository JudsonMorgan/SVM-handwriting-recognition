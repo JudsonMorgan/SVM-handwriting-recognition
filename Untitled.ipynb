{
 "cells": [
  {
   "cell_type": "code",
   "execution_count": 1,
   "metadata": {},
   "outputs": [],
   "source": [
    "import numpy as np\n",
    "import matplotlib.pyplot as plt\n",
    "from sklearn import svm\n",
    "import os\n",
    "import pickle\n",
    "from sklearn import preprocessing\n",
    "from sklearn.metrics import confusion_matrix, accuracy_score\n",
    "from sklearn.utils.multiclass import unique_labels"
   ]
  },
  {
   "cell_type": "markdown",
   "metadata": {},
   "source": [
    "sources:\n",
    "    https://www.youtube.com/watch?v=KTeVOb8gaD4\n",
    "    https://thesai.org/Downloads/Volume6No11/Paper_9-Handwriting_Word_Recognition_Based_on_SVM_Classifier.pdf\n",
    "    https://www.youtube.com/watch?v=KTeVOb8gaD4\n",
    "    https://towardsdatascience.com/support-vector-machine-mnist-digit-classification-with-python-including-my-hand-written-digits-83d6eca7004a\n",
    "    https://scikit-learn.org/stable/auto_examples/classification/plot_digits_classification.html\n",
    "\n",
    "NIST Special Database 19\n",
    "\n",
    "convert everything to numbers"
   ]
  },
  {
   "cell_type": "markdown",
   "metadata": {},
   "source": [
    "30 - 0, 31 - 1, 32 - 2, 33 - 3, 34 - 4, 35 - 6, 36 - 6, 37 - 7, 38 - 8, 39 - 9 <br>\n",
    "41 - A,  ...  , 49 - I, 4a - J, 4b - K, 4c - L, 4d - M, 4e - N, 4f - O <br>\n",
    "50 - P,  ...  , 59 - Y, 5a - Z  <br>\n",
    "61 - a,  ...  , 69 - i, 6a - j, 6b - k, 6c - l, 6d - m, 6e - n, 6f - o <br>\n",
    "70 - p,  ...  , 79 - y, 7a - z  <br>"
   ]
  },
  {
   "cell_type": "code",
   "execution_count": 2,
   "metadata": {},
   "outputs": [],
   "source": [
    "from string import ascii_lowercase, ascii_uppercase\n",
    "alp = {}"
   ]
  },
  {
   "cell_type": "code",
   "execution_count": 3,
   "metadata": {},
   "outputs": [],
   "source": [
    "for i in range(10):\n",
    "    alp[str(30+i)] = i "
   ]
  },
  {
   "cell_type": "code",
   "execution_count": 4,
   "metadata": {},
   "outputs": [],
   "source": [
    "for i in range(9):\n",
    "    alp[str(41+i)] = ascii_uppercase[i]\n",
    "for i in range(10):\n",
    "    j = i+15\n",
    "    alp[str(50+i)] = ascii_uppercase[j]\n",
    "for i in range(9):\n",
    "    alp[str(61+i)] = ascii_lowercase[i]\n",
    "for i in range(10):\n",
    "    j = i + 15\n",
    "    alp[str(70+i)] = ascii_lowercase[j]\n",
    "alp['7a'] = 'z'\n",
    "alp['5a'] = 'Z'\n",
    "j=0\n",
    "for i in ['a', 'b' , 'c' ,'d' ,'e' ,'f']:\n",
    "    alp['4'+i] = ascii_uppercase[9+j]\n",
    "    j+=1\n",
    "j=0\n",
    "for i in ['a', 'b' , 'c' ,'d' ,'e' ,'f']:\n",
    "    alp['6'+i] = ascii_lowercase[9+j]\n",
    "    j+=1"
   ]
  },
  {
   "cell_type": "markdown",
   "metadata": {},
   "source": [
    "## Losowanie próby testowj"
   ]
  },
  {
   "cell_type": "code",
   "execution_count": 29,
   "metadata": {},
   "outputs": [],
   "source": [
    "txt_files = os.listdir('dataset')"
   ]
  },
  {
   "cell_type": "code",
   "execution_count": 37,
   "metadata": {},
   "outputs": [],
   "source": [
    "x_pt, y_pt = [], []\n",
    "n_pt = 100\n",
    "for file in txt_files:\n",
    "    temp_arr = np.loadtxt('dataset_test/'+file, delimiter=' ')\n",
    "    indx = np.random.choice(temp_arr.shape[0], n_pt, replace=False)\n",
    "    x_pt.append(temp_arr[indx[:n_pt]])\n",
    "    y_pt.append([file[:2]]*n_pt)\n",
    "x_pt = np.array(x_pt)\n",
    "y_pt = np.array(y_pt)"
   ]
  },
  {
   "cell_type": "code",
   "execution_count": 38,
   "metadata": {},
   "outputs": [],
   "source": [
    "y_pt = y_pt.reshape(y_pt.shape[0]*y_pt.shape[1])\n",
    "x_pt = x_pt.reshape(x_pt.shape[0]*x_pt.shape[1], x_pt.shape[2])\n",
    "x_pt = preprocessing.scale(x_pt)"
   ]
  },
  {
   "cell_type": "markdown",
   "metadata": {},
   "source": [
    "## Wczytywanie klasyfikatora"
   ]
  },
  {
   "cell_type": "code",
   "execution_count": 39,
   "metadata": {},
   "outputs": [],
   "source": [
    "filename = 'finalized_model.sav'\n",
    "clf = pickle.load(open(filename, 'rb'))"
   ]
  },
  {
   "cell_type": "code",
   "execution_count": 40,
   "metadata": {},
   "outputs": [
    {
     "data": {
      "text/plain": [
       "SVC(C=100, cache_size=200, class_weight=None, coef0=0.0,\n",
       "    decision_function_shape='ovr', degree=3, gamma=0.001, kernel='rbf',\n",
       "    max_iter=-1, probability=False, random_state=None, shrinking=True,\n",
       "    tol=0.001, verbose=False)"
      ]
     },
     "execution_count": 40,
     "metadata": {},
     "output_type": "execute_result"
    }
   ],
   "source": [
    "clf"
   ]
  },
  {
   "cell_type": "markdown",
   "metadata": {},
   "source": [
    "## Predykcja"
   ]
  },
  {
   "cell_type": "code",
   "execution_count": 41,
   "metadata": {},
   "outputs": [],
   "source": [
    "y_predict = clf.predict(x_pt)"
   ]
  },
  {
   "cell_type": "markdown",
   "metadata": {},
   "source": [
    "## Confusion Matrix - Macierz pomyłek"
   ]
  },
  {
   "cell_type": "code",
   "execution_count": 42,
   "metadata": {},
   "outputs": [
    {
     "data": {
      "text/plain": [
       "array([[45,  0,  0, ...,  0,  0, 28],\n",
       "       [ 0, 23,  0, ...,  0,  0,  0],\n",
       "       [ 0,  0, 77, ...,  0,  0,  0],\n",
       "       ...,\n",
       "       [ 0,  0,  0, ..., 72,  2,  0],\n",
       "       [ 0,  0,  0, ...,  2, 77,  0],\n",
       "       [25,  0,  0, ...,  0,  0, 47]])"
      ]
     },
     "execution_count": 42,
     "metadata": {},
     "output_type": "execute_result"
    }
   ],
   "source": [
    "confusion_matrix(y_pt, y_predict, labels=list(alp.keys()))"
   ]
  },
  {
   "cell_type": "markdown",
   "metadata": {},
   "source": [
    "## ACC"
   ]
  },
  {
   "cell_type": "code",
   "execution_count": 43,
   "metadata": {},
   "outputs": [
    {
     "data": {
      "text/plain": [
       "0.7083870967741935"
      ]
     },
     "execution_count": 43,
     "metadata": {},
     "output_type": "execute_result"
    }
   ],
   "source": [
    "accuracy_score(y_pt, y_predict)"
   ]
  },
  {
   "cell_type": "markdown",
   "metadata": {},
   "source": [
    "po 200 przedstawicieli - ACC: 0.3293548387096774\n",
    "po 1000 przedstawicieli - ACC: "
   ]
  },
  {
   "cell_type": "code",
   "execution_count": 18,
   "metadata": {},
   "outputs": [],
   "source": [
    "from PIL import Image\n",
    "def reshape_function(im_array=None, filename=None):\n",
    "    height_arr = np.any(np.where(im_array == 0, True, False), axis=1)\n",
    "    width_arr = np.any(np.where(im_array == 0, True, False), axis=0)\n",
    "\n",
    "    height = np.argwhere(height_arr)\n",
    "    width = np.argwhere(width_arr)\n",
    "\n",
    "    left = width[0, 0]\n",
    "    right = width[-1, 0]\n",
    "    up = height[0, 0]\n",
    "    down = height[-1, 0]\n",
    "    if right - left > down - up:\n",
    "        if left > len(width_arr) - right:\n",
    "            left = len(width_arr) - right\n",
    "        else:\n",
    "            right = len(width_arr) - left\n",
    "        up = left\n",
    "        down = right\n",
    "    else:\n",
    "        if up > len(height_arr) - down:\n",
    "            up = len(height_arr) - down\n",
    "        else:\n",
    "            down = len(height_arr) - up\n",
    "        left = up\n",
    "        right = down\n",
    "\n",
    "    # left, upper, right, lower)\n",
    "    # array to change\n",
    "    im_strip = im_array[up:down + 1, left:right + 1]\n",
    "    im = Image.fromarray(im_strip)\n",
    "\n",
    "    # im.save(filename[:-4] + '.jpeg', \"JPEG\")\n",
    "\n",
    "    im = im.resize((12, 12), Image.ANTIALIAS)  # .save(filename[:-4] + '.jpeg', \"JPEG\")\n",
    "    return np.asarray(im).reshape(1, 12*12)"
   ]
  },
  {
   "cell_type": "code",
   "execution_count": 19,
   "metadata": {},
   "outputs": [],
   "source": [
    "png_files = os.listdir('converted')"
   ]
  },
  {
   "cell_type": "code",
   "execution_count": 20,
   "metadata": {},
   "outputs": [],
   "source": [
    "x_pv =[]\n",
    "png_files.sort()\n",
    "for png in png_files:\n",
    "    im_array = np.asarray(Image.open('converted/'+png).convert('L'))\n",
    "    x_pv.append(reshape_function(im_array))\n",
    "x_pv = np.array(x_pv)\n",
    "x_pv = x_pv.reshape(x_pv.shape[0]*x_pv.shape[1], x_pv.shape[2])\n",
    "x_pv = preprocessing.scale(x_pv)"
   ]
  },
  {
   "cell_type": "code",
   "execution_count": 23,
   "metadata": {},
   "outputs": [
    {
     "data": {
      "image/png": "[encoded data removed]",
      "text/plain": [
       "<Figure size 288x288 with 1 Axes>"
      ]
     },
     "metadata": {
      "needs_background": "light"
     },
     "output_type": "display_data"
    },
    {
     "data": {
      "image/png": "[encoded data removed]",
      "text/plain": [
       "<Figure size 288x288 with 1 Axes>"
      ]
     },
     "metadata": {
      "needs_background": "light"
     },
     "output_type": "display_data"
    },
    {
     "data": {
      "image/png": "[encoded data removed]",
      "text/plain": [
       "<Figure size 288x288 with 1 Axes>"
      ]
     },
     "metadata": {
      "needs_background": "light"
     },
     "output_type": "display_data"
    },
    {
     "data": {
      "image/png": "[encoded data removed]",
      "text/plain": [
       "<Figure size 288x288 with 1 Axes>"
      ]
     },
     "metadata": {
      "needs_background": "light"
     },
     "output_type": "display_data"
    },
    {
     "data": {
      "image/png": "[encoded data removed]",
      "text/plain": [
       "<Figure size 288x288 with 1 Axes>"
      ]
     },
     "metadata": {
      "needs_background": "light"
     },
     "output_type": "display_data"
    },
    {
     "data": {
      "image/png": "[encoded data removed]",
      "text/plain": [
       "<Figure size 288x288 with 1 Axes>"
      ]
     },
     "metadata": {
      "needs_background": "light"
     },
     "output_type": "display_data"
    }
   ],
   "source": [
    "plt.rcParams[\"figure.figsize\"] = (4,4)\n",
    "for x in x_pv:\n",
    "    plt.imshow(x.reshape(12,12))\n",
    "    plt.show()"
   ]
  },
  {
   "cell_type": "code",
   "execution_count": 27,
   "metadata": {},
   "outputs": [
    {
     "data": {
      "text/plain": [
       "array(['35', '56', '4d', '73', '76', '65'], dtype='<U2')"
      ]
     },
     "execution_count": 27,
     "metadata": {},
     "output_type": "execute_result"
    }
   ],
   "source": [
    "y_predict_2 = clf.predict(x_pv)\n",
    "y_predict_2"
   ]
  },
  {
   "cell_type": "code",
   "execution_count": 28,
   "metadata": {},
   "outputs": [
    {
     "name": "stdout",
     "output_type": "stream",
     "text": [
      "5\n",
      "V\n",
      "M\n",
      "s\n",
      "v\n",
      "e\n"
     ]
    }
   ],
   "source": [
    "for key in y_predict_2:\n",
    "    try:\n",
    "        print(alp[int(key)] )\n",
    "    except:\n",
    "        print(alp[key])"
   ]
  },
  {
   "cell_type": "code",
   "execution_count": null,
   "metadata": {},
   "outputs": [],
   "source": []
  }
 ],
 "metadata": {
  "kernelspec": {
   "display_name": "Python 3",
   "language": "python",
   "name": "python3"
  },
  "language_info": {
   "codemirror_mode": {
    "name": "ipython",
    "version": 3
   },
   "file_extension": ".py",
   "mimetype": "text/x-python",
   "name": "python",
   "nbconvert_exporter": "python",
   "pygments_lexer": "ipython3",
   "version": "3.6.7"
  }
 },
 "nbformat": 4,
 "nbformat_minor": 2
}
